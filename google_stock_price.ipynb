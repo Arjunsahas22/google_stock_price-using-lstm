{
 "cells": [
  {
   "cell_type": "code",
   "execution_count": 1,
   "id": "c58d2a50",
   "metadata": {},
   "outputs": [],
   "source": [
    "import numpy as np\n",
    "import matplotlib.pyplot as plt\n",
    "%matplotlib inline\n",
    "import pandas as pd\n",
    "import seaborn as sns\n",
    "from sklearn.preprocessing import MinMaxScaler\n",
    "from tensorflow.keras.models import Sequential\n",
    "from tensorflow.keras.layers import Dense,LSTM,Dropout"
   ]
  },
  {
   "cell_type": "code",
   "execution_count": 2,
   "id": "3861bd31",
   "metadata": {},
   "outputs": [],
   "source": [
    "train_data=pd.read_csv(r\"E:\\transfer learning\\archive22\\Google_Stock_Price_Train.csv\")"
   ]
  },
  {
   "cell_type": "code",
   "execution_count": 3,
   "id": "4644b13e",
   "metadata": {},
   "outputs": [
    {
     "data": {
      "text/html": [
       "<div>\n",
       "<style scoped>\n",
       "    .dataframe tbody tr th:only-of-type {\n",
       "        vertical-align: middle;\n",
       "    }\n",
       "\n",
       "    .dataframe tbody tr th {\n",
       "        vertical-align: top;\n",
       "    }\n",
       "\n",
       "    .dataframe thead th {\n",
       "        text-align: right;\n",
       "    }\n",
       "</style>\n",
       "<table border=\"1\" class=\"dataframe\">\n",
       "  <thead>\n",
       "    <tr style=\"text-align: right;\">\n",
       "      <th></th>\n",
       "      <th>Date</th>\n",
       "      <th>Open</th>\n",
       "      <th>High</th>\n",
       "      <th>Low</th>\n",
       "      <th>Close</th>\n",
       "      <th>Volume</th>\n",
       "    </tr>\n",
       "  </thead>\n",
       "  <tbody>\n",
       "    <tr>\n",
       "      <th>0</th>\n",
       "      <td>1/3/2012</td>\n",
       "      <td>325.25</td>\n",
       "      <td>332.83</td>\n",
       "      <td>324.97</td>\n",
       "      <td>663.59</td>\n",
       "      <td>7,380,500</td>\n",
       "    </tr>\n",
       "    <tr>\n",
       "      <th>1</th>\n",
       "      <td>1/4/2012</td>\n",
       "      <td>331.27</td>\n",
       "      <td>333.87</td>\n",
       "      <td>329.08</td>\n",
       "      <td>666.45</td>\n",
       "      <td>5,749,400</td>\n",
       "    </tr>\n",
       "    <tr>\n",
       "      <th>2</th>\n",
       "      <td>1/5/2012</td>\n",
       "      <td>329.83</td>\n",
       "      <td>330.75</td>\n",
       "      <td>326.89</td>\n",
       "      <td>657.21</td>\n",
       "      <td>6,590,300</td>\n",
       "    </tr>\n",
       "    <tr>\n",
       "      <th>3</th>\n",
       "      <td>1/6/2012</td>\n",
       "      <td>328.34</td>\n",
       "      <td>328.77</td>\n",
       "      <td>323.68</td>\n",
       "      <td>648.24</td>\n",
       "      <td>5,405,900</td>\n",
       "    </tr>\n",
       "    <tr>\n",
       "      <th>4</th>\n",
       "      <td>1/9/2012</td>\n",
       "      <td>322.04</td>\n",
       "      <td>322.29</td>\n",
       "      <td>309.46</td>\n",
       "      <td>620.76</td>\n",
       "      <td>11,688,800</td>\n",
       "    </tr>\n",
       "    <tr>\n",
       "      <th>...</th>\n",
       "      <td>...</td>\n",
       "      <td>...</td>\n",
       "      <td>...</td>\n",
       "      <td>...</td>\n",
       "      <td>...</td>\n",
       "      <td>...</td>\n",
       "    </tr>\n",
       "    <tr>\n",
       "      <th>1253</th>\n",
       "      <td>12/23/2016</td>\n",
       "      <td>790.90</td>\n",
       "      <td>792.74</td>\n",
       "      <td>787.28</td>\n",
       "      <td>789.91</td>\n",
       "      <td>623,400</td>\n",
       "    </tr>\n",
       "    <tr>\n",
       "      <th>1254</th>\n",
       "      <td>12/27/2016</td>\n",
       "      <td>790.68</td>\n",
       "      <td>797.86</td>\n",
       "      <td>787.66</td>\n",
       "      <td>791.55</td>\n",
       "      <td>789,100</td>\n",
       "    </tr>\n",
       "    <tr>\n",
       "      <th>1255</th>\n",
       "      <td>12/28/2016</td>\n",
       "      <td>793.70</td>\n",
       "      <td>794.23</td>\n",
       "      <td>783.20</td>\n",
       "      <td>785.05</td>\n",
       "      <td>1,153,800</td>\n",
       "    </tr>\n",
       "    <tr>\n",
       "      <th>1256</th>\n",
       "      <td>12/29/2016</td>\n",
       "      <td>783.33</td>\n",
       "      <td>785.93</td>\n",
       "      <td>778.92</td>\n",
       "      <td>782.79</td>\n",
       "      <td>744,300</td>\n",
       "    </tr>\n",
       "    <tr>\n",
       "      <th>1257</th>\n",
       "      <td>12/30/2016</td>\n",
       "      <td>782.75</td>\n",
       "      <td>782.78</td>\n",
       "      <td>770.41</td>\n",
       "      <td>771.82</td>\n",
       "      <td>1,770,000</td>\n",
       "    </tr>\n",
       "  </tbody>\n",
       "</table>\n",
       "<p>1258 rows × 6 columns</p>\n",
       "</div>"
      ],
      "text/plain": [
       "            Date    Open    High     Low   Close      Volume\n",
       "0       1/3/2012  325.25  332.83  324.97  663.59   7,380,500\n",
       "1       1/4/2012  331.27  333.87  329.08  666.45   5,749,400\n",
       "2       1/5/2012  329.83  330.75  326.89  657.21   6,590,300\n",
       "3       1/6/2012  328.34  328.77  323.68  648.24   5,405,900\n",
       "4       1/9/2012  322.04  322.29  309.46  620.76  11,688,800\n",
       "...          ...     ...     ...     ...     ...         ...\n",
       "1253  12/23/2016  790.90  792.74  787.28  789.91     623,400\n",
       "1254  12/27/2016  790.68  797.86  787.66  791.55     789,100\n",
       "1255  12/28/2016  793.70  794.23  783.20  785.05   1,153,800\n",
       "1256  12/29/2016  783.33  785.93  778.92  782.79     744,300\n",
       "1257  12/30/2016  782.75  782.78  770.41  771.82   1,770,000\n",
       "\n",
       "[1258 rows x 6 columns]"
      ]
     },
     "execution_count": 3,
     "metadata": {},
     "output_type": "execute_result"
    }
   ],
   "source": [
    "train_data"
   ]
  },
  {
   "cell_type": "code",
   "execution_count": 4,
   "id": "4e9b4968",
   "metadata": {},
   "outputs": [
    {
     "data": {
      "text/plain": [
       "Date      0\n",
       "Open      0\n",
       "High      0\n",
       "Low       0\n",
       "Close     0\n",
       "Volume    0\n",
       "dtype: int64"
      ]
     },
     "execution_count": 4,
     "metadata": {},
     "output_type": "execute_result"
    }
   ],
   "source": [
    "train_data.isnull().sum()"
   ]
  },
  {
   "cell_type": "code",
   "execution_count": 5,
   "id": "7b372e47",
   "metadata": {},
   "outputs": [],
   "source": [
    "training_set = train_data.iloc[:, 1:2].values"
   ]
  },
  {
   "cell_type": "code",
   "execution_count": 6,
   "id": "6332a2ed",
   "metadata": {},
   "outputs": [],
   "source": [
    "sc = MinMaxScaler(feature_range = (0, 1))\n",
    "training_set_scaled = sc.fit_transform(training_set)"
   ]
  },
  {
   "cell_type": "code",
   "execution_count": 7,
   "id": "18610351",
   "metadata": {},
   "outputs": [],
   "source": [
    "X_train = []\n",
    "y_train = []\n",
    "for i in range(60, 1258):\n",
    "    X_train.append(training_set_scaled[i-60:i, 0])\n",
    "    y_train.append(training_set_scaled[i, 0])\n",
    "X_train, y_train = np.array(X_train), np.array(y_train)"
   ]
  },
  {
   "cell_type": "code",
   "execution_count": 8,
   "id": "e4a3caac",
   "metadata": {},
   "outputs": [],
   "source": [
    "X_train = np.reshape(X_train, (X_train.shape[0], X_train.shape[1], 1))"
   ]
  },
  {
   "cell_type": "code",
   "execution_count": 9,
   "id": "7149fa67",
   "metadata": {},
   "outputs": [],
   "source": [
    "model = Sequential()\n",
    "model.add(LSTM(units=50,return_sequences=True,input_shape=(X_train.shape[1], 1),activation=\"tanh\"))\n",
    "model.add(Dropout(0.2))\n",
    "model.add(LSTM(units=50,return_sequences=True,activation=\"tanh\"))\n",
    "model.add(Dropout(0.2))\n",
    "model.add(LSTM(units=50,return_sequences=True,activation=\"tanh\"))\n",
    "model.add(Dropout(0.2))\n",
    "model.add(LSTM(units=50,activation=\"tanh\"))\n",
    "model.add(Dropout(0.2))\n",
    "model.add(Dense(units=1,activation=\"sigmoid\"))"
   ]
  },
  {
   "cell_type": "code",
   "execution_count": 10,
   "id": "8d839fe6",
   "metadata": {},
   "outputs": [
    {
     "name": "stdout",
     "output_type": "stream",
     "text": [
      "Epoch 1/50\n",
      "38/38 [==============================] - 7s 60ms/step - loss: 0.0232\n",
      "Epoch 2/50\n",
      "38/38 [==============================] - 2s 60ms/step - loss: 0.0041\n",
      "Epoch 3/50\n",
      "38/38 [==============================] - 2s 61ms/step - loss: 0.0031\n",
      "Epoch 4/50\n",
      "38/38 [==============================] - 2s 63ms/step - loss: 0.0028\n",
      "Epoch 5/50\n",
      "38/38 [==============================] - 2s 65ms/step - loss: 0.0024\n",
      "Epoch 6/50\n",
      "38/38 [==============================] - 2s 61ms/step - loss: 0.0025\n",
      "Epoch 7/50\n",
      "38/38 [==============================] - 2s 64ms/step - loss: 0.0025\n",
      "Epoch 8/50\n",
      "38/38 [==============================] - 2s 61ms/step - loss: 0.0026\n",
      "Epoch 9/50\n",
      "38/38 [==============================] - 2s 63ms/step - loss: 0.0024\n",
      "Epoch 10/50\n",
      "38/38 [==============================] - 2s 65ms/step - loss: 0.0022\n",
      "Epoch 11/50\n",
      "38/38 [==============================] - 2s 63ms/step - loss: 0.0020\n",
      "Epoch 12/50\n",
      "38/38 [==============================] - 3s 66ms/step - loss: 0.0020\n",
      "Epoch 13/50\n",
      "38/38 [==============================] - 2s 64ms/step - loss: 0.0019\n",
      "Epoch 14/50\n",
      "38/38 [==============================] - 3s 67ms/step - loss: 0.0019\n",
      "Epoch 15/50\n",
      "38/38 [==============================] - 2s 65ms/step - loss: 0.0019\n",
      "Epoch 16/50\n",
      "38/38 [==============================] - 2s 63ms/step - loss: 0.0018: 0s - loss: 0.\n",
      "Epoch 17/50\n",
      "38/38 [==============================] - 3s 68ms/step - loss: 0.0019\n",
      "Epoch 18/50\n",
      "38/38 [==============================] - 3s 67ms/step - loss: 0.0020\n",
      "Epoch 19/50\n",
      "38/38 [==============================] - 3s 69ms/step - loss: 0.0017\n",
      "Epoch 20/50\n",
      "38/38 [==============================] - 3s 66ms/step - loss: 0.0017\n",
      "Epoch 21/50\n",
      "38/38 [==============================] - 3s 68ms/step - loss: 0.0019\n",
      "Epoch 22/50\n",
      "38/38 [==============================] - 2s 66ms/step - loss: 0.0017\n",
      "Epoch 23/50\n",
      "38/38 [==============================] - 3s 72ms/step - loss: 0.0016\n",
      "Epoch 24/50\n",
      "38/38 [==============================] - 3s 69ms/step - loss: 0.0016\n",
      "Epoch 25/50\n",
      "38/38 [==============================] - 3s 70ms/step - loss: 0.0017\n",
      "Epoch 26/50\n",
      "38/38 [==============================] - 3s 70ms/step - loss: 0.0016\n",
      "Epoch 27/50\n",
      "38/38 [==============================] - 3s 68ms/step - loss: 0.0015\n",
      "Epoch 28/50\n",
      "38/38 [==============================] - 3s 67ms/step - loss: 0.0017\n",
      "Epoch 29/50\n",
      "38/38 [==============================] - 3s 68ms/step - loss: 0.0015\n",
      "Epoch 30/50\n",
      "38/38 [==============================] - 3s 69ms/step - loss: 0.0014\n",
      "Epoch 31/50\n",
      "38/38 [==============================] - 2s 65ms/step - loss: 0.0015\n",
      "Epoch 32/50\n",
      "38/38 [==============================] - 3s 67ms/step - loss: 0.0014\n",
      "Epoch 33/50\n",
      "38/38 [==============================] - 3s 67ms/step - loss: 0.0013\n",
      "Epoch 34/50\n",
      "38/38 [==============================] - 2s 65ms/step - loss: 0.0013\n",
      "Epoch 35/50\n",
      "38/38 [==============================] - 3s 68ms/step - loss: 0.0013\n",
      "Epoch 36/50\n",
      "38/38 [==============================] - 3s 66ms/step - loss: 0.0015\n",
      "Epoch 37/50\n",
      "38/38 [==============================] - 3s 71ms/step - loss: 0.0013\n",
      "Epoch 38/50\n",
      "38/38 [==============================] - 3s 67ms/step - loss: 0.0012\n",
      "Epoch 39/50\n",
      "38/38 [==============================] - 3s 67ms/step - loss: 0.0013\n",
      "Epoch 40/50\n",
      "38/38 [==============================] - 3s 66ms/step - loss: 0.0012\n",
      "Epoch 41/50\n",
      "38/38 [==============================] - 3s 67ms/step - loss: 0.0012\n",
      "Epoch 42/50\n",
      "38/38 [==============================] - 3s 67ms/step - loss: 0.0012\n",
      "Epoch 43/50\n",
      "38/38 [==============================] - 3s 67ms/step - loss: 0.0012\n",
      "Epoch 44/50\n",
      "38/38 [==============================] - 3s 67ms/step - loss: 0.0012\n",
      "Epoch 45/50\n",
      "38/38 [==============================] - 3s 67ms/step - loss: 0.0012\n",
      "Epoch 46/50\n",
      "38/38 [==============================] - 3s 67ms/step - loss: 0.0012\n",
      "Epoch 47/50\n",
      "38/38 [==============================] - 3s 68ms/step - loss: 0.0011\n",
      "Epoch 48/50\n",
      "38/38 [==============================] - 3s 68ms/step - loss: 0.0012\n",
      "Epoch 49/50\n",
      "38/38 [==============================] - 3s 69ms/step - loss: 0.0012\n",
      "Epoch 50/50\n",
      "38/38 [==============================] - 3s 68ms/step - loss: 0.0010\n"
     ]
    }
   ],
   "source": [
    "model.compile(optimizer='adam',loss='mean_squared_error')\n",
    "\n",
    "lstm_model=model.fit(X_train,y_train,epochs=50,batch_size=32)"
   ]
  },
  {
   "cell_type": "code",
   "execution_count": 11,
   "id": "0393c485",
   "metadata": {},
   "outputs": [],
   "source": [
    "test_data=pd.read_csv(r'E:\\transfer learning\\archive22\\Google_Stock_Price_Test.csv')\n",
    "real_stock_price=test_data.iloc[:, 1:2].values"
   ]
  },
  {
   "cell_type": "code",
   "execution_count": 12,
   "id": "3948452c",
   "metadata": {},
   "outputs": [],
   "source": [
    "dataset_total=pd.concat((train_data['Open'], test_data['Open']), axis = 0)\n",
    "inputs=dataset_total[len(dataset_total) - len(test_data) - 60:].values"
   ]
  },
  {
   "cell_type": "code",
   "execution_count": 13,
   "id": "f0bf03cd",
   "metadata": {},
   "outputs": [
    {
     "data": {
      "text/plain": [
       "array([779.  , 779.66, 777.71, 786.66, 783.76, 781.22, 781.65, 779.8 ,\n",
       "       787.85, 798.24, 803.3 , 795.  , 804.9 , 816.68, 806.34, 801.  ,\n",
       "       808.35, 795.47, 782.89, 778.2 , 767.25, 750.66, 774.5 , 783.4 ,\n",
       "       779.94, 791.17, 756.54, 755.6 , 746.97, 755.2 , 766.92, 771.37,\n",
       "       762.61, 772.63, 767.73, 764.26, 760.  , 771.53, 770.07, 757.44,\n",
       "       744.59, 757.71, 764.73, 761.  , 772.48, 780.  , 785.04, 793.9 ,\n",
       "       797.4 , 797.34, 800.4 , 790.22, 796.76, 795.84, 792.36, 790.9 ,\n",
       "       790.68, 793.7 , 783.33, 782.75, 778.81, 788.36, 786.08, 795.26,\n",
       "       806.4 , 807.86, 805.  , 807.14, 807.48, 807.08, 805.81, 805.12,\n",
       "       806.91, 807.25, 822.3 , 829.62, 837.81, 834.71, 814.66, 796.86])"
      ]
     },
     "execution_count": 13,
     "metadata": {},
     "output_type": "execute_result"
    }
   ],
   "source": [
    "inputs"
   ]
  },
  {
   "cell_type": "code",
   "execution_count": 14,
   "id": "0d12bfb9",
   "metadata": {},
   "outputs": [],
   "source": [
    "inputs=inputs.reshape(-1,1)"
   ]
  },
  {
   "cell_type": "code",
   "execution_count": 15,
   "id": "7e06bdc7",
   "metadata": {},
   "outputs": [
    {
     "data": {
      "text/plain": [
       "array([[779.  ],\n",
       "       [779.66],\n",
       "       [777.71],\n",
       "       [786.66],\n",
       "       [783.76],\n",
       "       [781.22],\n",
       "       [781.65],\n",
       "       [779.8 ],\n",
       "       [787.85],\n",
       "       [798.24],\n",
       "       [803.3 ],\n",
       "       [795.  ],\n",
       "       [804.9 ],\n",
       "       [816.68],\n",
       "       [806.34],\n",
       "       [801.  ],\n",
       "       [808.35],\n",
       "       [795.47],\n",
       "       [782.89],\n",
       "       [778.2 ],\n",
       "       [767.25],\n",
       "       [750.66],\n",
       "       [774.5 ],\n",
       "       [783.4 ],\n",
       "       [779.94],\n",
       "       [791.17],\n",
       "       [756.54],\n",
       "       [755.6 ],\n",
       "       [746.97],\n",
       "       [755.2 ],\n",
       "       [766.92],\n",
       "       [771.37],\n",
       "       [762.61],\n",
       "       [772.63],\n",
       "       [767.73],\n",
       "       [764.26],\n",
       "       [760.  ],\n",
       "       [771.53],\n",
       "       [770.07],\n",
       "       [757.44],\n",
       "       [744.59],\n",
       "       [757.71],\n",
       "       [764.73],\n",
       "       [761.  ],\n",
       "       [772.48],\n",
       "       [780.  ],\n",
       "       [785.04],\n",
       "       [793.9 ],\n",
       "       [797.4 ],\n",
       "       [797.34],\n",
       "       [800.4 ],\n",
       "       [790.22],\n",
       "       [796.76],\n",
       "       [795.84],\n",
       "       [792.36],\n",
       "       [790.9 ],\n",
       "       [790.68],\n",
       "       [793.7 ],\n",
       "       [783.33],\n",
       "       [782.75],\n",
       "       [778.81],\n",
       "       [788.36],\n",
       "       [786.08],\n",
       "       [795.26],\n",
       "       [806.4 ],\n",
       "       [807.86],\n",
       "       [805.  ],\n",
       "       [807.14],\n",
       "       [807.48],\n",
       "       [807.08],\n",
       "       [805.81],\n",
       "       [805.12],\n",
       "       [806.91],\n",
       "       [807.25],\n",
       "       [822.3 ],\n",
       "       [829.62],\n",
       "       [837.81],\n",
       "       [834.71],\n",
       "       [814.66],\n",
       "       [796.86]])"
      ]
     },
     "execution_count": 15,
     "metadata": {},
     "output_type": "execute_result"
    }
   ],
   "source": [
    "inputs"
   ]
  },
  {
   "cell_type": "code",
   "execution_count": 16,
   "id": "74de24f1",
   "metadata": {},
   "outputs": [],
   "source": [
    "inputs=sc.transform(inputs)"
   ]
  },
  {
   "cell_type": "code",
   "execution_count": 17,
   "id": "6b7cb08f",
   "metadata": {},
   "outputs": [],
   "source": [
    "X_test=[]\n",
    "for i in range(60, 80):\n",
    "    X_test.append(inputs[i-60:i, 0])\n",
    "X_test=np.array(X_test)\n",
    "X_test=np.reshape(X_test, (X_test.shape[0], X_test.shape[1], 1))"
   ]
  },
  {
   "cell_type": "code",
   "execution_count": 18,
   "id": "d9c1bb78",
   "metadata": {},
   "outputs": [],
   "source": [
    "predicted_stock_price=model.predict(X_test)\n",
    "predicted_stock_price=sc.inverse_transform(predicted_stock_price)"
   ]
  },
  {
   "cell_type": "code",
   "execution_count": 19,
   "id": "8478975c",
   "metadata": {},
   "outputs": [
    {
     "data": {
      "text/plain": [
       "array([[778.6486 ],\n",
       "       [777.6785 ],\n",
       "       [777.12604],\n",
       "       [776.9744 ],\n",
       "       [777.50867],\n",
       "       [778.98254],\n",
       "       [780.82733],\n",
       "       [782.2496 ],\n",
       "       [783.151  ],\n",
       "       [783.6802 ],\n",
       "       [784.0079 ],\n",
       "       [784.22284],\n",
       "       [784.398  ],\n",
       "       [784.6908 ],\n",
       "       [785.11145],\n",
       "       [786.2792 ],\n",
       "       [788.1527 ],\n",
       "       [790.3997 ],\n",
       "       [792.25934],\n",
       "       [792.7378 ]], dtype=float32)"
      ]
     },
     "execution_count": 19,
     "metadata": {},
     "output_type": "execute_result"
    }
   ],
   "source": [
    "predicted_stock_price"
   ]
  },
  {
   "cell_type": "code",
   "execution_count": 26,
   "id": "26f2b9ea",
   "metadata": {},
   "outputs": [],
   "source": [
    "plt.plot(real_stock_price, color='red',label='Real Google Stock Price')\n",
    "plt.plot(predicted_stock_price,color='blue',label='Predicted Google Stock Price')\n",
    "plt.title('Google Stock Price Prediction')\n",
    "plt.xlabel('Time')\n",
    "plt.ylabel('Google Stock Price')\n",
    "plt.legend()\n",
    "plt.show()"
   ]
  },
  {
   "cell_type": "code",
   "execution_count": 25,
   "id": "832622dc",
   "metadata": {},
   "outputs": [],
   "source": [
    "##saving the keras model.\n",
    "model.save('Google_lstm.h5')"
   ]
  },
  {
   "cell_type": "code",
   "execution_count": null,
   "id": "5574d53b",
   "metadata": {},
   "outputs": [],
   "source": []
  }
 ],
 "metadata": {
  "kernelspec": {
   "display_name": "Python 3 (ipykernel)",
   "language": "python",
   "name": "python3"
  },
  "language_info": {
   "codemirror_mode": {
    "name": "ipython",
    "version": 3
   },
   "file_extension": ".py",
   "mimetype": "text/x-python",
   "name": "python",
   "nbconvert_exporter": "python",
   "pygments_lexer": "ipython3",
   "version": "3.9.0"
  }
 },
 "nbformat": 4,
 "nbformat_minor": 5
}
